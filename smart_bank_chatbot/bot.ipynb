{
 "cells": [
  {
   "cell_type": "code",
   "execution_count": 3,
   "metadata": {},
   "outputs": [
    {
     "name": "stderr",
     "output_type": "stream",
     "text": [
      "Python-dotenv could not parse statement starting at line 1\n",
      "Python-dotenv could not parse statement starting at line 5\n"
     ]
    }
   ],
   "source": [
    "import os\n",
    "from dotenv import load_dotenv\n",
    "\n",
    "load_dotenv()\n",
    "\n",
    "\n",
    "os.environ[\"OPENAI_API_KEY\"] = os.getenv(\"OPENAI_API_KEY\")\n",
    "os.environ[\"LANGCHAIN_TRACING_V2\"] = \"true\"\n",
    "os.environ[\"LANGCHAIN_API_KEY\"] = os.getenv(\"LANGCHAIN_API_KEY\")"
   ]
  },
  {
   "cell_type": "code",
   "execution_count": 7,
   "metadata": {},
   "outputs": [],
   "source": [
    "from langchain_community.document_loaders import PyPDFLoader\n",
    "\n",
    "loader = PyPDFLoader('LLM Scenario.pdf')\n",
    "docs = loader.load()\n",
    "docs = docs[1:]"
   ]
  },
  {
   "cell_type": "code",
   "execution_count": 10,
   "metadata": {},
   "outputs": [
    {
     "data": {
      "text/plain": [
       "[Document(page_content='Loans Description  \\nSmart bank mainl y has 5 type s of loan schemes.  \\n1. Overdra ft Facilities  \\n2. Housing Loans  \\n3. Education Loans  \\n4. Pensioners ’ Loans  \\n5. Personal Loans  \\n1. Over draft  Facilities  \\nAn overdraft is the ideal way to manage your cash flow at competitive rates of interest at speed. It is \\nlinked to your current account and you can use as much as you need, up to your limit. You can also apply \\nfor and either increase or decrease your limit through Internet banking. The controls are in your hands.  \\n• An overdraft is quick and easy to arrange  \\n• The cash is available when you need it  \\n• You only pay interest on what you use, not on the full amount of your set limit  \\n• Sole proprietors can apply for an overdraft or increase their limits   \\n2. Housing Loans  \\n2.1. Housing Loan Sche me \\n• Purchase a land to construct a house later  \\n• Purchase a land and to construct a house  \\n• Construct a house in a land owned by the borrower/s', metadata={'source': 'LLM Scenario.pdf', 'page': 1}),\n",
       " Document(page_content='2. Housing Loans  \\n2.1. Housing Loan Sche me \\n• Purchase a land to construct a house later  \\n• Purchase a land and to construct a house  \\n• Construct a house in a land owned by the borrower/s  \\n• Purchase a house/ partly constructed house/ condominium unit  \\n• Complete construction/ renovation/ extension/ repair of an existing house/ condominium unit  \\n• Landscaping/ interior decoration of the house/ condominium unit  \\n• Construction of houses/ apartments for sale  \\n- Please contact the relevant branch for more information.        \\n- This facility is provided only for commercial -purpose house builders  \\nQuantum of the Loan  \\n• Quantum of Loan : A maximum of Rs. 50 Million  \\n• Repayment Period : 25 years  \\n• Area of Operation : All Island  \\nEligibility  \\n• Be a Sri Lankan Citizen/s above the age of 18 years  \\n• The borrower should be a resident of Sri Lanka  \\n• Should not be a defaulter of Smart  Bank  or any other financial institution', metadata={'source': 'LLM Scenario.pdf', 'page': 1}),\n",
       " Document(page_content='• Be a Sri Lankan Citizen/s above the age of 18 years  \\n• The borrower should be a resident of Sri Lanka  \\n• Should not be a defaulter of Smart  Bank  or any other financial institution  \\n• Professionals with fixed/non -fixed income, permanent employees of government, statutory \\nbodies, private sector, self -employed, farmers, and cultivators etc.  \\n• In case of a joint housing loan, the co -borrowers should be close relatives or directly interested \\nparties for purchasing/developing of property', metadata={'source': 'LLM Scenario.pdf', 'page': 1}),\n",
       " Document(page_content='Rate of advance  \\nPurpose  Rates of Advance  \\nPurchase a land to construct a house later  Maximum of 75% of reviewed market value or purchase \\nprice of the property, whichever is lesser  \\nPurchase a land and to construct a house  • Land Purchasing  \\nMaximum of 75% of reviewed market value or purchase \\nprice of the property, whichever is lesser  \\n• House Construction  \\nMaximum of 90% of the BOQ  \\nConstruct a house in a land owned by the \\nborrower/co -borrower  Maximum of 90% of the BOQ  \\nPurchase a house/ partly constructed \\nhouse/ condominium unit  Maximum of 75% of reviewed market value or purchase \\nprice of the property, whichever is lesser.  \\nComplete construction/ renovation, \\nextension / repair of an existing house/ \\ncondominium unit  90% of the BOQ value  \\nLandscape/ interior decoration of existing \\nhouse/ condominium unit  If reviewed forced sale value of the house/ apartment is \\nabove the loan amount - 100% of cost  \\nIf not - 75% of cost or reviewed forced sale value of the', metadata={'source': 'LLM Scenario.pdf', 'page': 2}),\n",
       " Document(page_content='house/ condominium unit  If reviewed forced sale value of the house/ apartment is \\nabove the loan amount - 100% of cost  \\nIf not - 75% of cost or reviewed forced sale value of the \\nhouse property, whichever is less.  \\nConstruction of houses/ Apartments for sale  Maximum 70% of the BOQ value', metadata={'source': 'LLM Scenario.pdf', 'page': 2}),\n",
       " Document(page_content='Security Collateral  \\n• Mortgage over the subject property / property owned by the applicant/s.  \\nConditions Apply  \\n• (Smart Bank  holds the authority to change, add or revise any condition, term or statement in this \\nfacility)  \\n• For more information, please contact the Manager at your nearest Smart  Branch or call centre: \\n1234  \\n \\n2.2. Housing Loan for University Staff  \\n• Smart Bank  offers a special housing loan scheme to officers with a minimum of 5 year service \\nand confirmed in Service who are serving in the universities which are registered under the \\nUniversities Act No: 16 of 1978.  \\n• A loan under this scheme shall be granted only once during the period of service.  \\nQuantum of the Loan Facility  \\n• Academic Staff and Non Academic Staff Grade officers : Rs. 2.0 Million  \\n• Non -Staff Grade officers: Rs. 1.0 Million  \\nConditions Apply  \\n• (Smart Bank  holds the authority to change, add or revise any condition, term or statement in this \\nfacility)', metadata={'source': 'LLM Scenario.pdf', 'page': 3}),\n",
       " Document(page_content='• Non -Staff Grade officers: Rs. 1.0 Million  \\nConditions Apply  \\n• (Smart Bank  holds the authority to change, add or revise any condition, term or statement in this \\nfacility)  \\n \\n2.3. Housing Loan Scheme for the Permanent Cadre Employees  \\n• This Housing Loan Scheme is designed for Sri Lanka’s permanent cadre salaried employees in \\nboth public and private sector. The objective is to offer a stable solution to a nagging housing \\nproblem of the established working professional.  \\nRepayment Period  \\n• Maximum 25 years. However, the loan should be fully settled before the borrower’s retirement \\nday \\nSecurity/ Collateral  \\n• Primary mortgage over the property to be developed.  \\n• In case of a condominium apartment, the property to be mortgaged to the bank after \\ncompletion of the construction. A tripartite agreement should be signed between the developer, \\nborrower and the bank to continue the process until the mortgage of the proper ty has been fully \\nrecovered.', metadata={'source': 'LLM Scenario.pdf', 'page': 3}),\n",
       " Document(page_content='How to apply online  for housing loans  \\nIt takes only few minutes to complete your request. When you\\'re finished,  we\\'ll give you a response \\nimmediately.  \\nUse the link : https://forms. smartbank .lk/housing/housing  to apply online  \\nWhat you\\'ll need?  \\n• Calculate your eligible loan amount using \"Loan Calculator\" provided in this site.  \\n• Your Smart Bank  account number (if you have one).  \\n• Financial details including your income & expenses.  \\n• You are required to specify your purpose. Accordingly,  you will be notified information required \\nto process your request.  \\nWhat happens after you apply?  \\n• SMS will be sent to your mobile number, with a reference, acknowledging your request.  \\n• You will be notified (via email) to submit documents, if eligible to proceed.  \\n• Once your Loan is approved, SMS/email confirmation will be sent informing the next step.  \\nNumber of applicants', metadata={'source': 'LLM Scenario.pdf', 'page': 4}),\n",
       " Document(page_content='• You will be notified (via email) to submit documents, if eligible to proceed.  \\n• Once your Loan is approved, SMS/email confirmation will be sent informing the next step.  \\nNumber of applicants  \\n• Only individual applications are facilitated online. For joint applications, please visit nearest \\nSmart Bank  branch.  \\n3. Education Loan  \\n3.1. Educational Loan  \\nFeatures  \\n• Smart Bank  Educational Loans provide the financial support you need to achieve your higher \\neducational goals at local or foreign universities  \\n• Option of paying only the interest until the degree is complete  \\n• Receive the maximum loan amount necessary for your requirements  \\n• Speedy service  \\n• No hidden costs  \\nLoan Amount  \\n• Maximum Rs. 10.0 Million (or 80%of the course fee which is less)  \\nRepayment Period  \\n• Maximum of 7 years with 04 years Grace period  \\nSecurity  \\n• Mortgage of property for facilities over Rs. 500,000/ -', metadata={'source': 'LLM Scenario.pdf', 'page': 4}),\n",
       " Document(page_content='Purpose of Loan  \\n• Registration Fees  \\n• Course Fees  \\n• Examination Fees  \\n• Payments for Travel Expenses can be considered for Foreign Universities  \\nEligibility  \\nSmart Bank  Customers and Students  \\n• Should have a minimum of 3 passes at G.C.E. (A/L) to follow degree courses  \\n• Should follow Post Graduate Examinations and Diplomas relevant to current employment  \\n• Should obtain the approval of the University Grant Commission of Sri Lanka for local/foreign \\neducational institute, university and course  \\nRequired Documents  \\n• Loan Application  \\n• Letter from University  \\n• Proof of identification (NIC/Passport)  \\n3.2. Laptop L oan \\nA special loan scheme to enable University Students the funds to purchase Laptop Computers  \\nLoan Amount  \\n• Up to a maximum of Rs. 75,000/ - \\nRate of Interest  \\n• 0% (* Conditions apply. During NPA, customer should pay monthly AWPLR+0.5 subject to floor \\nrate of 8.5% ) \\nRepayment Period  \\n• Up to a maximum of 3 years  \\nCollateral', metadata={'source': 'LLM Scenario.pdf', 'page': 5}),\n",
       " Document(page_content='Rate of Interest  \\n• 0% (* Conditions apply. During NPA, customer should pay monthly AWPLR+0.5 subject to floor \\nrate of 8.5% ) \\nRepayment Period  \\n• Up to a maximum of 3 years  \\nCollateral  \\n• A Personal Guarantee  \\nEligibility  \\n• Only for students in National Universities  \\n• Joint loan with a parent/guardian  \\nRequired Documents  \\n• Duly completed Application  \\n• Student Record Book and Student ID  \\n• NIC of Student, Parent/Guardian and Guarantor', metadata={'source': 'LLM Scenario.pdf', 'page': 5}),\n",
       " Document(page_content='• Recommendation Letter by an Authorized Person of the University  \\n*Conditions apply  \\n4. Government Pensioner ’ Loan Scheme  \\nPurpose  \\n• To Start a Business  \\n• Educational Expenses of their children  \\n• To meet Medical Expenses  \\n• House Repairs  \\n• Any Other Purpose legally acceptable (to uplift the lifestyle of the pensioners)  \\nEligibility  \\n• Government Pensioners below 75 years of age  \\n• Pension should be remitted to Smart Bank  Account (Joint accounts will not be permitted.)  \\nLoan Amount  \\n• No upper limit  \\n• (Monthly installment of the loan should be below 70% of gross pension)  \\nRepayment  \\n• Maximum 15 years  \\nSecurity  \\n• Pension should be remitted to Smart Bank  Account.  \\n• Decreasing Term Assurance Policy (DTA Policy)  \\n* Conditions Apply  \\n(Smart Bank holds the authority to change, add or revise any term and condition in this facility).  \\nFor more information, please contact the Manager at your nearest Smart Bank  Branch or Smart Bank  Call \\nCentre: 1234', metadata={'source': 'LLM Scenario.pdf', 'page': 6}),\n",
       " Document(page_content='For more information, please contact the Manager at your nearest Smart Bank  Branch or Smart Bank  Call \\nCentre: 1234  \\n5. Personal Loans  \\n5.1. Smart Bank Personal Loan  \\nGet a step closer to your dreams and goals by availing our Personal Loans and meet your financial needs. \\nYou can avail a personal loan to meet unexpected expenses, a dream holiday, school or college fees, \\nwedding expenditure, home improvement expenses or e ven to purchase consumer durables.  \\n• Simplified documentation  \\n• Competitive rates  \\n• Transparency  \\n• Availability of Personal Loans for a variety of needs', metadata={'source': 'LLM Scenario.pdf', 'page': 6}),\n",
       " Document(page_content='How to Apply  \\n• Click on the Apply Online button (or Visit any Smart Bank  Branch)  \\n• Complete the online Application  \\n• Once completed click on Submit button (please remember the reference number given)  \\n• You will receive an email or telephone call to visit the branch with required documents  \\nEligibility  \\nAn applicant should be , \\n• In the age group of 18 -55 (Applicants over 55 can be entertained, but only under special \\ncircumstances)  \\n• A salaried employee belonging to the following categories:   \\n• Permanent employees of Government Service/ Statutory Bodies with a take home salary of LKR \\n30,000 or more  \\n• Employees of Private sector entities as listed by the bank (Refer List) with a take home salary of \\nLKR 40,000 or more  \\nDocuments  \\nFor your convenience, we provide a Personal Loan with minimum documentation  \\n• Loan Application  \\n• Letter from Employer confirming service, position & salary  \\n• Form No.375  \\n• Proof of Identification (NIC/ Passport)', metadata={'source': 'LLM Scenario.pdf', 'page': 7}),\n",
       " Document(page_content='• Loan Application  \\n• Letter from Employer confirming service, position & salary  \\n• Form No.375  \\n• Proof of Identification (NIC/ Passport)  \\n5.2. Loans for Professionals  \\nThis loan scheme is designed to provide financial support to professionals in designated sectors.  \\nEligible sectors  \\n• Health Sector  \\n- Members of the Government Medical Officers Association  \\n- Members of Sri Lanka Medical Council and Government Ayurveda Medical Officers  \\n- Members of the Government Dental Surgeons Association  \\n- State Veterinary Surgeons Association and the Veterinary Council of Sri Lanka  \\n- Government Service Nursing Staff, Nursing Staff in Probation Period and the Students of \\nNTS  \\n- Members of Medical Laboratory Technologists (MLTs)  \\n• SLASA/SLEASA/SLPSA/GICTPA  \\n• Engineers (IESL, IIESL)  \\n• Tri Forces (Army, Navy, Airforce), Sri Lanka Police  \\n• Government Employees  \\n• Accountants  \\n• Professional Qualified Persons ( MAAT, ACA, FCA, ACMA, CGMA, ACCA)', metadata={'source': 'LLM Scenario.pdf', 'page': 7}),\n",
       " Document(page_content='• Engineers (IESL, IIESL)  \\n• Tri Forces (Army, Navy, Airforce), Sri Lanka Police  \\n• Government Employees  \\n• Accountants  \\n• Professional Qualified Persons ( MAAT, ACA, FCA, ACMA, CGMA, ACCA)  \\n• Employees of the office of the President/ Prime Minister', metadata={'source': 'LLM Scenario.pdf', 'page': 7}),\n",
       " Document(page_content='• Permanent Employees of the Institute of Bankers of Sri Lanka (IBSL)  \\n• Employees of Sri Lanka Insurance Corporation (SLIC)  \\n• Academic/Non -Academic Staff of Sri Lanka Institute of Information Technology  \\n• (SLIIT)  \\n• Customs  \\n• Valuers  \\n• Members of the Government Surveyors Association  \\n• Members of the Association of the Government Scientific Officers (AGSO)  \\n• Employees of Airport and Aviation Services     \\nDocuments Required  \\n• Loan Application  \\n• Letter from Employer confirming service, position & salary  \\n• Form No. 375 (Permanent employees only)  \\n• DTA Policy  \\n• Any other documents if required           \\nSecurity  \\n• One/ two guarantors in the same/higher grade to the borrower based on the loan scheme.', metadata={'source': 'LLM Scenario.pdf', 'page': 8})]"
      ]
     },
     "execution_count": 10,
     "metadata": {},
     "output_type": "execute_result"
    }
   ],
   "source": [
    "from langchain.text_splitter import RecursiveCharacterTextSplitter\n",
    "\n",
    "text_splitter = RecursiveCharacterTextSplitter(chunk_size = 1000, chunk_overlap = 200)\n",
    "documents = text_splitter.split_documents(docs)\n",
    "documents"
   ]
  },
  {
   "cell_type": "code",
   "execution_count": 12,
   "metadata": {},
   "outputs": [
    {
     "name": "stderr",
     "output_type": "stream",
     "text": [
      "c:\\Users\\Janith\\Desktop\\intellihack\\intellihackvenv\\lib\\site-packages\\langchain_core\\_api\\deprecation.py:119: LangChainDeprecationWarning: The class `OpenAIEmbeddings` was deprecated in LangChain 0.0.9 and will be removed in 0.2.0. An updated version of the class exists in the langchain-openai package and should be used instead. To use it run `pip install -U langchain-openai` and import as `from langchain_openai import OpenAIEmbeddings`.\n",
      "  warn_deprecated(\n"
     ]
    }
   ],
   "source": [
    "from langchain_community.embeddings import OpenAIEmbeddings\n",
    "from langchain_community.vectorstores import FAISS\n",
    "\n",
    "db = FAISS.from_documents(documents, OpenAIEmbeddings())"
   ]
  },
  {
   "cell_type": "code",
   "execution_count": 13,
   "metadata": {},
   "outputs": [],
   "source": [
    "from langchain_openai import ChatOpenAI\n",
    "\n",
    "llm = ChatOpenAI(model= \"gpt-3.5-turbo\")"
   ]
  },
  {
   "cell_type": "code",
   "execution_count": 19,
   "metadata": {},
   "outputs": [],
   "source": [
    "from langchain_core.prompts import ChatPromptTemplate\n",
    "\n",
    "user_prompt =  \"\"\" \n",
    "    Answer the following question based only on the provided context and general banking knowlage.\n",
    "    Think step by step before providing a detailed answer.\n",
    "    <context> {context} </context>\n",
    "    Question: {input}\n",
    "    \"\"\"\n",
    "\n",
    "prompt = ChatPromptTemplate.from_messages([\n",
    "    (\"system\", \"You are a helpful bank assistant. Please response to the user queries.\"),\n",
    "    (\"user\",user_prompt)\n",
    "])"
   ]
  },
  {
   "cell_type": "code",
   "execution_count": 20,
   "metadata": {},
   "outputs": [],
   "source": [
    "from langchain.chains.combine_documents import create_stuff_documents_chain\n",
    "\n",
    "document_chain = create_stuff_documents_chain(llm, prompt)"
   ]
  },
  {
   "cell_type": "code",
   "execution_count": 21,
   "metadata": {},
   "outputs": [],
   "source": [
    "retriever = db.as_retriever()"
   ]
  },
  {
   "cell_type": "code",
   "execution_count": 25,
   "metadata": {},
   "outputs": [],
   "source": [
    "from langchain_core.prompts import MessagesPlaceholder\n",
    "from langchain.chains import create_history_aware_retriever\n",
    "\n",
    "contextualize_q_system_prompt = \"\"\"Given a chat history and the latest user question \\\n",
    "which might reference context in the chat history, formulate a standalone question \\\n",
    "which can be understood without the chat history. Do NOT answer the question, \\\n",
    "just reformulate it if needed and otherwise return it as is.\"\"\"\n",
    "contextualize_q_prompt = ChatPromptTemplate.from_messages(\n",
    "    [\n",
    "        (\"system\", contextualize_q_system_prompt),\n",
    "        MessagesPlaceholder(\"chat_history\"),\n",
    "        (\"human\", \"{input}\"),\n",
    "    ]\n",
    ")\n",
    "history_aware_retriever = create_history_aware_retriever(\n",
    "    llm, retriever, contextualize_q_prompt\n",
    ")"
   ]
  },
  {
   "cell_type": "code",
   "execution_count": 29,
   "metadata": {},
   "outputs": [],
   "source": [
    "from langchain.chains import create_retrieval_chain\n",
    "\n",
    "qa_system_prompt = \"\"\"You are a bank assistant for question-answering tasks. \\\n",
    "Use the following pieces of retrieved context and general banking knowlage to answer the question. \\\n",
    "Give output in tone of friendly bank assistant.\n",
    "\n",
    "{context}\"\"\"\n",
    "qa_prompt = ChatPromptTemplate.from_messages(\n",
    "    [\n",
    "        (\"system\", qa_system_prompt),\n",
    "        MessagesPlaceholder(\"chat_history\"),\n",
    "        (\"human\", \"{input}\"),\n",
    "    ]\n",
    ")\n",
    "question_answer_chain = create_stuff_documents_chain(llm, qa_prompt)\n",
    "\n",
    "rag_chain = create_retrieval_chain(history_aware_retriever, question_answer_chain)\n"
   ]
  },
  {
   "cell_type": "code",
   "execution_count": 30,
   "metadata": {},
   "outputs": [],
   "source": [
    "from langchain_core.chat_history import BaseChatMessageHistory\n",
    "from langchain_community.chat_message_histories import ChatMessageHistory\n",
    "from langchain_core.runnables.history import RunnableWithMessageHistory\n",
    "\n",
    "store = {}\n",
    "\n",
    "\n",
    "def get_session_history(session_id: str) -> BaseChatMessageHistory:\n",
    "    if session_id not in store:\n",
    "        store[session_id] = ChatMessageHistory()\n",
    "    return store[session_id]\n",
    "\n",
    "\n",
    "conversational_rag_chain = RunnableWithMessageHistory(\n",
    "    rag_chain,\n",
    "    get_session_history,\n",
    "    input_messages_key=\"input\",\n",
    "    history_messages_key=\"chat_history\",\n",
    "    output_messages_key=\"answer\",\n",
    ")"
   ]
  },
  {
   "cell_type": "code",
   "execution_count": 32,
   "metadata": {},
   "outputs": [
    {
     "name": "stderr",
     "output_type": "stream",
     "text": [
      "Parent run 8453b99e-922a-4fe3-8cae-9c270572ad03 not found for run c95d49ea-33ec-4cc3-9228-1b6043b48c1c. Treating as a root run.\n"
     ]
    },
    {
     "data": {
      "text/plain": [
       "\"The terms and conditions for the Housing Loan Scheme for Permanent Cadre Employees are as follows:\\n\\n1. Repayment Period:\\n   - Maximum of 25 years. The loan should be fully settled before the borrower's retirement day.\\n\\n2. Security/Collateral:\\n   - Primary mortgage over the property to be developed.\\n   - For a condominium apartment, the property will be mortgaged to the bank after completion of construction. A tripartite agreement should be signed between the developer, borrower, and the bank to continue the process until the mortgage of the property has been fully recovered.\\n\\nPlease note that Smart Bank reserves the authority to change, add, or revise any condition, term, or statement in this facility. For more detailed information or clarification on the terms and conditions, you can contact the Manager at your nearest Smart Branch or call our customer service center at 1234.\\n\\nIf you have any specific questions or need further assistance, feel free to ask. We are here to help you navigate through the loan process smoothly!\""
      ]
     },
     "execution_count": 32,
     "metadata": {},
     "output_type": "execute_result"
    }
   ],
   "source": [
    "conversational_rag_chain.invoke(\n",
    "    {\"input\": \"What are the terms and conditions for that loan?\"},\n",
    "    config={\"configurable\": {\"session_id\": \"abc123\"}},\n",
    ")[\"answer\"]"
   ]
  },
  {
   "cell_type": "code",
   "execution_count": null,
   "metadata": {},
   "outputs": [],
   "source": []
  }
 ],
 "metadata": {
  "kernelspec": {
   "display_name": "Python 3",
   "language": "python",
   "name": "python3"
  },
  "language_info": {
   "codemirror_mode": {
    "name": "ipython",
    "version": 3
   },
   "file_extension": ".py",
   "mimetype": "text/x-python",
   "name": "python",
   "nbconvert_exporter": "python",
   "pygments_lexer": "ipython3",
   "version": "3.9.0"
  }
 },
 "nbformat": 4,
 "nbformat_minor": 2
}
